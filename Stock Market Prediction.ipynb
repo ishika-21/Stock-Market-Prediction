{
 "cells": [
  {
   "cell_type": "code",
   "execution_count": 1,
   "id": "43cdcf82",
   "metadata": {},
   "outputs": [
    {
     "name": "stdout",
     "output_type": "stream",
     "text": [
      "Requirement already satisfied: yfinance in c:\\users\\ishic\\anaconda3\\envs\\dataanalysis\\lib\\site-packages (0.1.74)\n",
      "Requirement already satisfied: pandas>=0.24.0 in c:\\users\\ishic\\anaconda3\\envs\\dataanalysis\\lib\\site-packages (from yfinance) (1.4.3)\n",
      "Requirement already satisfied: numpy>=1.15 in c:\\users\\ishic\\anaconda3\\envs\\dataanalysis\\lib\\site-packages (from yfinance) (1.21.5)\n",
      "Requirement already satisfied: requests>=2.26 in c:\\users\\ishic\\anaconda3\\envs\\dataanalysis\\lib\\site-packages (from yfinance) (2.28.1)\n",
      "Requirement already satisfied: lxml>=4.5.1 in c:\\users\\ishic\\anaconda3\\envs\\dataanalysis\\lib\\site-packages (from yfinance) (4.9.1)\n",
      "Requirement already satisfied: multitasking>=0.0.7 in c:\\users\\ishic\\anaconda3\\envs\\dataanalysis\\lib\\site-packages (from yfinance) (0.0.11)\n",
      "Requirement already satisfied: python-dateutil>=2.8.1 in c:\\users\\ishic\\anaconda3\\envs\\dataanalysis\\lib\\site-packages (from pandas>=0.24.0->yfinance) (2.8.2)\n",
      "Requirement already satisfied: pytz>=2020.1 in c:\\users\\ishic\\anaconda3\\envs\\dataanalysis\\lib\\site-packages (from pandas>=0.24.0->yfinance) (2022.1)\n",
      "Requirement already satisfied: idna<4,>=2.5 in c:\\users\\ishic\\anaconda3\\envs\\dataanalysis\\lib\\site-packages (from requests>=2.26->yfinance) (3.3)\n",
      "Requirement already satisfied: certifi>=2017.4.17 in c:\\users\\ishic\\anaconda3\\envs\\dataanalysis\\lib\\site-packages (from requests>=2.26->yfinance) (2022.6.15)\n",
      "Requirement already satisfied: charset-normalizer<3,>=2 in c:\\users\\ishic\\anaconda3\\envs\\dataanalysis\\lib\\site-packages (from requests>=2.26->yfinance) (2.0.4)\n",
      "Requirement already satisfied: urllib3<1.27,>=1.21.1 in c:\\users\\ishic\\anaconda3\\envs\\dataanalysis\\lib\\site-packages (from requests>=2.26->yfinance) (1.26.11)\n",
      "Requirement already satisfied: six>=1.5 in c:\\users\\ishic\\anaconda3\\envs\\dataanalysis\\lib\\site-packages (from python-dateutil>=2.8.1->pandas>=0.24.0->yfinance) (1.16.0)\n"
     ]
    }
   ],
   "source": [
    "!pip install yfinance"
   ]
  },
  {
   "cell_type": "code",
   "execution_count": 2,
   "id": "4391db6f",
   "metadata": {},
   "outputs": [],
   "source": [
    "import yfinance as yf\n",
    "\n",
    "msft = yf.Ticker(\"MSFT\")\n",
    "msft_hist = msft.history(period=\"max\")"
   ]
  },
  {
   "cell_type": "code",
   "execution_count": 3,
   "id": "a0c349a2",
   "metadata": {},
   "outputs": [],
   "source": [
    "import os\n",
    "import pandas as pd\n",
    "\n",
    "DATA_PATH = \"msft_data.json\"\n",
    "\n",
    "if os.path.exists(DATA_PATH):\n",
    "    # Read from file if we've already downloaded the data.\n",
    "    with open(DATA_PATH) as f:\n",
    "        msft_hist = pd.read_json(DATA_PATH)\n",
    "else:\n",
    "    msft = yf.Ticker(\"MSFT\")\n",
    "    msft_hist = msft.history(period=\"max\")\n",
    "\n",
    "    # Save file to json in case we need it later.  This prevents us from having to re-download it every time.\n",
    "    msft_hist.to_json(DATA_PATH)\n"
   ]
  },
  {
   "cell_type": "code",
   "execution_count": 4,
   "id": "098e6fe6",
   "metadata": {},
   "outputs": [
    {
     "data": {
      "text/html": [
       "<div>\n",
       "<style scoped>\n",
       "    .dataframe tbody tr th:only-of-type {\n",
       "        vertical-align: middle;\n",
       "    }\n",
       "\n",
       "    .dataframe tbody tr th {\n",
       "        vertical-align: top;\n",
       "    }\n",
       "\n",
       "    .dataframe thead th {\n",
       "        text-align: right;\n",
       "    }\n",
       "</style>\n",
       "<table border=\"1\" class=\"dataframe\">\n",
       "  <thead>\n",
       "    <tr style=\"text-align: right;\">\n",
       "      <th></th>\n",
       "      <th>Open</th>\n",
       "      <th>High</th>\n",
       "      <th>Low</th>\n",
       "      <th>Close</th>\n",
       "      <th>Volume</th>\n",
       "      <th>Dividends</th>\n",
       "      <th>Stock Splits</th>\n",
       "    </tr>\n",
       "  </thead>\n",
       "  <tbody>\n",
       "    <tr>\n",
       "      <th>1986-03-13</th>\n",
       "      <td>0.055536</td>\n",
       "      <td>0.063703</td>\n",
       "      <td>0.055536</td>\n",
       "      <td>0.060980</td>\n",
       "      <td>1031788800</td>\n",
       "      <td>0.0</td>\n",
       "      <td>0.0</td>\n",
       "    </tr>\n",
       "    <tr>\n",
       "      <th>1986-03-14</th>\n",
       "      <td>0.060980</td>\n",
       "      <td>0.064247</td>\n",
       "      <td>0.060980</td>\n",
       "      <td>0.063158</td>\n",
       "      <td>308160000</td>\n",
       "      <td>0.0</td>\n",
       "      <td>0.0</td>\n",
       "    </tr>\n",
       "    <tr>\n",
       "      <th>1986-03-17</th>\n",
       "      <td>0.063158</td>\n",
       "      <td>0.064792</td>\n",
       "      <td>0.063158</td>\n",
       "      <td>0.064247</td>\n",
       "      <td>133171200</td>\n",
       "      <td>0.0</td>\n",
       "      <td>0.0</td>\n",
       "    </tr>\n",
       "    <tr>\n",
       "      <th>1986-03-18</th>\n",
       "      <td>0.064247</td>\n",
       "      <td>0.064792</td>\n",
       "      <td>0.062069</td>\n",
       "      <td>0.062613</td>\n",
       "      <td>67766400</td>\n",
       "      <td>0.0</td>\n",
       "      <td>0.0</td>\n",
       "    </tr>\n",
       "    <tr>\n",
       "      <th>1986-03-19</th>\n",
       "      <td>0.062613</td>\n",
       "      <td>0.063158</td>\n",
       "      <td>0.060980</td>\n",
       "      <td>0.061524</td>\n",
       "      <td>47894400</td>\n",
       "      <td>0.0</td>\n",
       "      <td>0.0</td>\n",
       "    </tr>\n",
       "  </tbody>\n",
       "</table>\n",
       "</div>"
      ],
      "text/plain": [
       "                Open      High       Low     Close      Volume  Dividends  \\\n",
       "1986-03-13  0.055536  0.063703  0.055536  0.060980  1031788800        0.0   \n",
       "1986-03-14  0.060980  0.064247  0.060980  0.063158   308160000        0.0   \n",
       "1986-03-17  0.063158  0.064792  0.063158  0.064247   133171200        0.0   \n",
       "1986-03-18  0.064247  0.064792  0.062069  0.062613    67766400        0.0   \n",
       "1986-03-19  0.062613  0.063158  0.060980  0.061524    47894400        0.0   \n",
       "\n",
       "            Stock Splits  \n",
       "1986-03-13           0.0  \n",
       "1986-03-14           0.0  \n",
       "1986-03-17           0.0  \n",
       "1986-03-18           0.0  \n",
       "1986-03-19           0.0  "
      ]
     },
     "execution_count": 4,
     "metadata": {},
     "output_type": "execute_result"
    }
   ],
   "source": [
    "msft_hist.head(5)"
   ]
  },
  {
   "cell_type": "code",
   "execution_count": 5,
   "id": "85d66ad0",
   "metadata": {},
   "outputs": [
    {
     "data": {
      "text/plain": [
       "<AxesSubplot:>"
      ]
     },
     "execution_count": 5,
     "metadata": {},
     "output_type": "execute_result"
    },
    {
     "data": {
      "image/png": "[encoded data removed]",
      "text/plain": [
       "<Figure size 432x288 with 1 Axes>"
      ]
     },
     "metadata": {
      "needs_background": "light"
     },
     "output_type": "display_data"
    }
   ],
   "source": [
    "# Visualize microsoft stock prices\n",
    "msft_hist.plot.line(y=\"Close\", use_index=True)"
   ]
  },
  {
   "cell_type": "code",
   "execution_count": 6,
   "id": "c3b518af",
   "metadata": {},
   "outputs": [],
   "source": [
    "# Ensure we know the actual closing price\n",
    "data = msft_hist[[\"Close\"]]\n",
    "data = data.rename(columns = {'Close':'Actual_Close'})\n",
    "\n",
    "# Setup our target.  This identifies if the price went up or down\n",
    "data[\"Target\"] = msft_hist.rolling(2).apply(lambda x: x.iloc[1] > x.iloc[0])[\"Close\"]"
   ]
  },
  {
   "cell_type": "code",
   "execution_count": 7,
   "id": "a4175ce3",
   "metadata": {},
   "outputs": [
    {
     "data": {
      "text/html": [
       "<div>\n",
       "<style scoped>\n",
       "    .dataframe tbody tr th:only-of-type {\n",
       "        vertical-align: middle;\n",
       "    }\n",
       "\n",
       "    .dataframe tbody tr th {\n",
       "        vertical-align: top;\n",
       "    }\n",
       "\n",
       "    .dataframe thead th {\n",
       "        text-align: right;\n",
       "    }\n",
       "</style>\n",
       "<table border=\"1\" class=\"dataframe\">\n",
       "  <thead>\n",
       "    <tr style=\"text-align: right;\">\n",
       "      <th></th>\n",
       "      <th>Actual_Close</th>\n",
       "      <th>Target</th>\n",
       "    </tr>\n",
       "  </thead>\n",
       "  <tbody>\n",
       "    <tr>\n",
       "      <th>1986-03-13</th>\n",
       "      <td>0.060980</td>\n",
       "      <td>NaN</td>\n",
       "    </tr>\n",
       "    <tr>\n",
       "      <th>1986-03-14</th>\n",
       "      <td>0.063158</td>\n",
       "      <td>1.0</td>\n",
       "    </tr>\n",
       "    <tr>\n",
       "      <th>1986-03-17</th>\n",
       "      <td>0.064247</td>\n",
       "      <td>1.0</td>\n",
       "    </tr>\n",
       "    <tr>\n",
       "      <th>1986-03-18</th>\n",
       "      <td>0.062613</td>\n",
       "      <td>0.0</td>\n",
       "    </tr>\n",
       "    <tr>\n",
       "      <th>1986-03-19</th>\n",
       "      <td>0.061524</td>\n",
       "      <td>0.0</td>\n",
       "    </tr>\n",
       "  </tbody>\n",
       "</table>\n",
       "</div>"
      ],
      "text/plain": [
       "            Actual_Close  Target\n",
       "1986-03-13      0.060980     NaN\n",
       "1986-03-14      0.063158     1.0\n",
       "1986-03-17      0.064247     1.0\n",
       "1986-03-18      0.062613     0.0\n",
       "1986-03-19      0.061524     0.0"
      ]
     },
     "execution_count": 7,
     "metadata": {},
     "output_type": "execute_result"
    }
   ],
   "source": [
    "data.head()"
   ]
  },
  {
   "cell_type": "code",
   "execution_count": 8,
   "id": "060da164",
   "metadata": {},
   "outputs": [],
   "source": [
    "# Shift stock prices forward one day, so we're predicting tomorrow's stock prices from today's prices.\n",
    "msft_prev = msft_hist.copy()\n",
    "msft_prev = msft_prev.shift(1)"
   ]
  },
  {
   "cell_type": "code",
   "execution_count": 9,
   "id": "4e98c970",
   "metadata": {},
   "outputs": [
    {
     "data": {
      "text/html": [
       "<div>\n",
       "<style scoped>\n",
       "    .dataframe tbody tr th:only-of-type {\n",
       "        vertical-align: middle;\n",
       "    }\n",
       "\n",
       "    .dataframe tbody tr th {\n",
       "        vertical-align: top;\n",
       "    }\n",
       "\n",
       "    .dataframe thead th {\n",
       "        text-align: right;\n",
       "    }\n",
       "</style>\n",
       "<table border=\"1\" class=\"dataframe\">\n",
       "  <thead>\n",
       "    <tr style=\"text-align: right;\">\n",
       "      <th></th>\n",
       "      <th>Open</th>\n",
       "      <th>High</th>\n",
       "      <th>Low</th>\n",
       "      <th>Close</th>\n",
       "      <th>Volume</th>\n",
       "      <th>Dividends</th>\n",
       "      <th>Stock Splits</th>\n",
       "    </tr>\n",
       "  </thead>\n",
       "  <tbody>\n",
       "    <tr>\n",
       "      <th>1986-03-13</th>\n",
       "      <td>NaN</td>\n",
       "      <td>NaN</td>\n",
       "      <td>NaN</td>\n",
       "      <td>NaN</td>\n",
       "      <td>NaN</td>\n",
       "      <td>NaN</td>\n",
       "      <td>NaN</td>\n",
       "    </tr>\n",
       "    <tr>\n",
       "      <th>1986-03-14</th>\n",
       "      <td>0.055536</td>\n",
       "      <td>0.063703</td>\n",
       "      <td>0.055536</td>\n",
       "      <td>0.060980</td>\n",
       "      <td>1.031789e+09</td>\n",
       "      <td>0.0</td>\n",
       "      <td>0.0</td>\n",
       "    </tr>\n",
       "    <tr>\n",
       "      <th>1986-03-17</th>\n",
       "      <td>0.060980</td>\n",
       "      <td>0.064247</td>\n",
       "      <td>0.060980</td>\n",
       "      <td>0.063158</td>\n",
       "      <td>3.081600e+08</td>\n",
       "      <td>0.0</td>\n",
       "      <td>0.0</td>\n",
       "    </tr>\n",
       "    <tr>\n",
       "      <th>1986-03-18</th>\n",
       "      <td>0.063158</td>\n",
       "      <td>0.064792</td>\n",
       "      <td>0.063158</td>\n",
       "      <td>0.064247</td>\n",
       "      <td>1.331712e+08</td>\n",
       "      <td>0.0</td>\n",
       "      <td>0.0</td>\n",
       "    </tr>\n",
       "    <tr>\n",
       "      <th>1986-03-19</th>\n",
       "      <td>0.064247</td>\n",
       "      <td>0.064792</td>\n",
       "      <td>0.062069</td>\n",
       "      <td>0.062613</td>\n",
       "      <td>6.776640e+07</td>\n",
       "      <td>0.0</td>\n",
       "      <td>0.0</td>\n",
       "    </tr>\n",
       "  </tbody>\n",
       "</table>\n",
       "</div>"
      ],
      "text/plain": [
       "                Open      High       Low     Close        Volume  Dividends  \\\n",
       "1986-03-13       NaN       NaN       NaN       NaN           NaN        NaN   \n",
       "1986-03-14  0.055536  0.063703  0.055536  0.060980  1.031789e+09        0.0   \n",
       "1986-03-17  0.060980  0.064247  0.060980  0.063158  3.081600e+08        0.0   \n",
       "1986-03-18  0.063158  0.064792  0.063158  0.064247  1.331712e+08        0.0   \n",
       "1986-03-19  0.064247  0.064792  0.062069  0.062613  6.776640e+07        0.0   \n",
       "\n",
       "            Stock Splits  \n",
       "1986-03-13           NaN  \n",
       "1986-03-14           0.0  \n",
       "1986-03-17           0.0  \n",
       "1986-03-18           0.0  \n",
       "1986-03-19           0.0  "
      ]
     },
     "execution_count": 9,
     "metadata": {},
     "output_type": "execute_result"
    }
   ],
   "source": [
    "msft_prev.head()"
   ]
  },
  {
   "cell_type": "code",
   "execution_count": 10,
   "id": "45c9556d",
   "metadata": {},
   "outputs": [],
   "source": [
    "# Create our training data\n",
    "predictors = [\"Close\", \"Volume\", \"Open\", \"High\", \"Low\"]\n",
    "data = data.join(msft_prev[predictors]).iloc[1:]"
   ]
  },
  {
   "cell_type": "code",
   "execution_count": 11,
   "id": "de702a46",
   "metadata": {},
   "outputs": [
    {
     "data": {
      "text/html": [
       "<div>\n",
       "<style scoped>\n",
       "    .dataframe tbody tr th:only-of-type {\n",
       "        vertical-align: middle;\n",
       "    }\n",
       "\n",
       "    .dataframe tbody tr th {\n",
       "        vertical-align: top;\n",
       "    }\n",
       "\n",
       "    .dataframe thead th {\n",
       "        text-align: right;\n",
       "    }\n",
       "</style>\n",
       "<table border=\"1\" class=\"dataframe\">\n",
       "  <thead>\n",
       "    <tr style=\"text-align: right;\">\n",
       "      <th></th>\n",
       "      <th>Actual_Close</th>\n",
       "      <th>Target</th>\n",
       "      <th>Close</th>\n",
       "      <th>Volume</th>\n",
       "      <th>Open</th>\n",
       "      <th>High</th>\n",
       "      <th>Low</th>\n",
       "    </tr>\n",
       "  </thead>\n",
       "  <tbody>\n",
       "    <tr>\n",
       "      <th>1986-03-14</th>\n",
       "      <td>0.063158</td>\n",
       "      <td>1.0</td>\n",
       "      <td>0.060980</td>\n",
       "      <td>1.031789e+09</td>\n",
       "      <td>0.055536</td>\n",
       "      <td>0.063703</td>\n",
       "      <td>0.055536</td>\n",
       "    </tr>\n",
       "    <tr>\n",
       "      <th>1986-03-17</th>\n",
       "      <td>0.064247</td>\n",
       "      <td>1.0</td>\n",
       "      <td>0.063158</td>\n",
       "      <td>3.081600e+08</td>\n",
       "      <td>0.060980</td>\n",
       "      <td>0.064247</td>\n",
       "      <td>0.060980</td>\n",
       "    </tr>\n",
       "    <tr>\n",
       "      <th>1986-03-18</th>\n",
       "      <td>0.062613</td>\n",
       "      <td>0.0</td>\n",
       "      <td>0.064247</td>\n",
       "      <td>1.331712e+08</td>\n",
       "      <td>0.063158</td>\n",
       "      <td>0.064792</td>\n",
       "      <td>0.063158</td>\n",
       "    </tr>\n",
       "    <tr>\n",
       "      <th>1986-03-19</th>\n",
       "      <td>0.061524</td>\n",
       "      <td>0.0</td>\n",
       "      <td>0.062613</td>\n",
       "      <td>6.776640e+07</td>\n",
       "      <td>0.064247</td>\n",
       "      <td>0.064792</td>\n",
       "      <td>0.062069</td>\n",
       "    </tr>\n",
       "    <tr>\n",
       "      <th>1986-03-20</th>\n",
       "      <td>0.059891</td>\n",
       "      <td>0.0</td>\n",
       "      <td>0.061524</td>\n",
       "      <td>4.789440e+07</td>\n",
       "      <td>0.062613</td>\n",
       "      <td>0.063158</td>\n",
       "      <td>0.060980</td>\n",
       "    </tr>\n",
       "  </tbody>\n",
       "</table>\n",
       "</div>"
      ],
      "text/plain": [
       "            Actual_Close  Target     Close        Volume      Open      High  \\\n",
       "1986-03-14      0.063158     1.0  0.060980  1.031789e+09  0.055536  0.063703   \n",
       "1986-03-17      0.064247     1.0  0.063158  3.081600e+08  0.060980  0.064247   \n",
       "1986-03-18      0.062613     0.0  0.064247  1.331712e+08  0.063158  0.064792   \n",
       "1986-03-19      0.061524     0.0  0.062613  6.776640e+07  0.064247  0.064792   \n",
       "1986-03-20      0.059891     0.0  0.061524  4.789440e+07  0.062613  0.063158   \n",
       "\n",
       "                 Low  \n",
       "1986-03-14  0.055536  \n",
       "1986-03-17  0.060980  \n",
       "1986-03-18  0.063158  \n",
       "1986-03-19  0.062069  \n",
       "1986-03-20  0.060980  "
      ]
     },
     "execution_count": 11,
     "metadata": {},
     "output_type": "execute_result"
    }
   ],
   "source": [
    "data.head()"
   ]
  },
  {
   "cell_type": "code",
   "execution_count": 12,
   "id": "2646860d",
   "metadata": {},
   "outputs": [
    {
     "name": "stdout",
     "output_type": "stream",
     "text": [
      "Requirement already satisfied: scikit-learn in c:\\users\\ishic\\anaconda3\\envs\\dataanalysis\\lib\\site-packages (1.1.2)\n",
      "Requirement already satisfied: threadpoolctl>=2.0.0 in c:\\users\\ishic\\anaconda3\\envs\\dataanalysis\\lib\\site-packages (from scikit-learn) (3.1.0)\n",
      "Requirement already satisfied: numpy>=1.17.3 in c:\\users\\ishic\\anaconda3\\envs\\dataanalysis\\lib\\site-packages (from scikit-learn) (1.21.5)\n",
      "Requirement already satisfied: scipy>=1.3.2 in c:\\users\\ishic\\anaconda3\\envs\\dataanalysis\\lib\\site-packages (from scikit-learn) (1.7.3)\n",
      "Requirement already satisfied: joblib>=1.0.0 in c:\\users\\ishic\\anaconda3\\envs\\dataanalysis\\lib\\site-packages (from scikit-learn) (1.1.0)\n"
     ]
    }
   ],
   "source": [
    "!pip install scikit-learn"
   ]
  },
  {
   "cell_type": "code",
   "execution_count": 13,
   "id": "6ab17c6e",
   "metadata": {},
   "outputs": [],
   "source": [
    "from sklearn.ensemble import RandomForestClassifier\n",
    "import numpy as np\n",
    "\n",
    "# Create a random forest classification model.  Set min_samples_split high to ensure we don't overfit.\n",
    "model = RandomForestClassifier(n_estimators=100, min_samples_split=200, random_state=1)"
   ]
  },
  {
   "cell_type": "code",
   "execution_count": 14,
   "id": "97ea22ff",
   "metadata": {},
   "outputs": [
    {
     "data": {
      "text/html": [
       "<style>#sk-container-id-1 {color: black;background-color: white;}#sk-container-id-1 pre{padding: 0;}#sk-container-id-1 div.sk-toggleable {background-color: white;}#sk-container-id-1 label.sk-toggleable__label {cursor: pointer;display: block;width: 100%;margin-bottom: 0;padding: 0.3em;box-sizing: border-box;text-align: center;}#sk-container-id-1 label.sk-toggleable__label-arrow:before {content: \"▸\";float: left;margin-right: 0.25em;color: #696969;}#sk-container-id-1 label.sk-toggleable__label-arrow:hover:before {color: black;}#sk-container-id-1 div.sk-estimator:hover label.sk-toggleable__label-arrow:before {color: black;}#sk-container-id-1 div.sk-toggleable__content {max-height: 0;max-width: 0;overflow: hidden;text-align: left;background-color: #f0f8ff;}#sk-container-id-1 div.sk-toggleable__content pre {margin: 0.2em;color: black;border-radius: 0.25em;background-color: #f0f8ff;}#sk-container-id-1 input.sk-toggleable__control:checked~div.sk-toggleable__content {max-height: 200px;max-width: 100%;overflow: auto;}#sk-container-id-1 input.sk-toggleable__control:checked~label.sk-toggleable__label-arrow:before {content: \"▾\";}#sk-container-id-1 div.sk-estimator input.sk-toggleable__control:checked~label.sk-toggleable__label {background-color: #d4ebff;}#sk-container-id-1 div.sk-label input.sk-toggleable__control:checked~label.sk-toggleable__label {background-color: #d4ebff;}#sk-container-id-1 input.sk-hidden--visually {border: 0;clip: rect(1px 1px 1px 1px);clip: rect(1px, 1px, 1px, 1px);height: 1px;margin: -1px;overflow: hidden;padding: 0;position: absolute;width: 1px;}#sk-container-id-1 div.sk-estimator {font-family: monospace;background-color: #f0f8ff;border: 1px dotted black;border-radius: 0.25em;box-sizing: border-box;margin-bottom: 0.5em;}#sk-container-id-1 div.sk-estimator:hover {background-color: #d4ebff;}#sk-container-id-1 div.sk-parallel-item::after {content: \"\";width: 100%;border-bottom: 1px solid gray;flex-grow: 1;}#sk-container-id-1 div.sk-label:hover label.sk-toggleable__label {background-color: #d4ebff;}#sk-container-id-1 div.sk-serial::before {content: \"\";position: absolute;border-left: 1px solid gray;box-sizing: border-box;top: 0;bottom: 0;left: 50%;z-index: 0;}#sk-container-id-1 div.sk-serial {display: flex;flex-direction: column;align-items: center;background-color: white;padding-right: 0.2em;padding-left: 0.2em;position: relative;}#sk-container-id-1 div.sk-item {position: relative;z-index: 1;}#sk-container-id-1 div.sk-parallel {display: flex;align-items: stretch;justify-content: center;background-color: white;position: relative;}#sk-container-id-1 div.sk-item::before, #sk-container-id-1 div.sk-parallel-item::before {content: \"\";position: absolute;border-left: 1px solid gray;box-sizing: border-box;top: 0;bottom: 0;left: 50%;z-index: -1;}#sk-container-id-1 div.sk-parallel-item {display: flex;flex-direction: column;z-index: 1;position: relative;background-color: white;}#sk-container-id-1 div.sk-parallel-item:first-child::after {align-self: flex-end;width: 50%;}#sk-container-id-1 div.sk-parallel-item:last-child::after {align-self: flex-start;width: 50%;}#sk-container-id-1 div.sk-parallel-item:only-child::after {width: 0;}#sk-container-id-1 div.sk-dashed-wrapped {border: 1px dashed gray;margin: 0 0.4em 0.5em 0.4em;box-sizing: border-box;padding-bottom: 0.4em;background-color: white;}#sk-container-id-1 div.sk-label label {font-family: monospace;font-weight: bold;display: inline-block;line-height: 1.2em;}#sk-container-id-1 div.sk-label-container {text-align: center;}#sk-container-id-1 div.sk-container {/* jupyter's `normalize.less` sets `[hidden] { display: none; }` but bootstrap.min.css set `[hidden] { display: none !important; }` so we also need the `!important` here to be able to override the default hidden behavior on the sphinx rendered scikit-learn.org. See: https://github.com/scikit-learn/scikit-learn/issues/21755 */display: inline-block !important;position: relative;}#sk-container-id-1 div.sk-text-repr-fallback {display: none;}</style><div id=\"sk-container-id-1\" class=\"sk-top-container\"><div class=\"sk-text-repr-fallback\"><pre>RandomForestClassifier(min_samples_split=200, random_state=1)</pre><b>In a Jupyter environment, please rerun this cell to show the HTML representation or trust the notebook. <br />On GitHub, the HTML representation is unable to render, please try loading this page with nbviewer.org.</b></div><div class=\"sk-container\" hidden><div class=\"sk-item\"><div class=\"sk-estimator sk-toggleable\"><input class=\"sk-toggleable__control sk-hidden--visually\" id=\"sk-estimator-id-1\" type=\"checkbox\" checked><label for=\"sk-estimator-id-1\" class=\"sk-toggleable__label sk-toggleable__label-arrow\">RandomForestClassifier</label><div class=\"sk-toggleable__content\"><pre>RandomForestClassifier(min_samples_split=200, random_state=1)</pre></div></div></div></div></div>"
      ],
      "text/plain": [
       "RandomForestClassifier(min_samples_split=200, random_state=1)"
      ]
     },
     "execution_count": 14,
     "metadata": {},
     "output_type": "execute_result"
    }
   ],
   "source": [
    "# Create a train and test set\n",
    "train = data.iloc[:-100]\n",
    "test = data.iloc[-100:]\n",
    "\n",
    "model.fit(train[predictors], train[\"Target\"])"
   ]
  },
  {
   "cell_type": "code",
   "execution_count": 15,
   "id": "1e72d9ac",
   "metadata": {},
   "outputs": [
    {
     "data": {
      "text/plain": [
       "0.47619047619047616"
      ]
     },
     "execution_count": 15,
     "metadata": {},
     "output_type": "execute_result"
    }
   ],
   "source": [
    "from sklearn.metrics import precision_score\n",
    "\n",
    "# Evaluate error of predictions\n",
    "preds = model.predict(test[predictors])\n",
    "preds = pd.Series(preds, index=test.index)\n",
    "precision_score(test[\"Target\"], preds)"
   ]
  },
  {
   "cell_type": "code",
   "execution_count": 16,
   "id": "a0c7de9d",
   "metadata": {},
   "outputs": [
    {
     "data": {
      "text/plain": [
       "<AxesSubplot:>"
      ]
     },
     "execution_count": 16,
     "metadata": {},
     "output_type": "execute_result"
    },
    {
     "data": {
      "image/png": "[encoded data removed]",
      "text/plain": [
       "<Figure size 432x288 with 1 Axes>"
      ]
     },
     "metadata": {
      "needs_background": "light"
     },
     "output_type": "display_data"
    }
   ],
   "source": [
    "combined = pd.concat({\"Target\": test[\"Target\"],\"Predictions\": preds}, axis=1)\n",
    "combined.plot()"
   ]
  },
  {
   "cell_type": "code",
   "execution_count": 17,
   "id": "089b9277",
   "metadata": {},
   "outputs": [],
   "source": [
    "i = 1000\n",
    "step = 750\n",
    "\n",
    "train = data.iloc[0:i].copy()\n",
    "test = data.iloc[i:(i+step)].copy()\n",
    "model.fit(train[predictors], train[\"Target\"])\n",
    "preds = model.predict(test[predictors])"
   ]
  },
  {
   "cell_type": "code",
   "execution_count": 18,
   "id": "3b28cd78",
   "metadata": {},
   "outputs": [],
   "source": [
    "preds = model.predict_proba(test[predictors])[:,1]\n",
    "preds = pd.Series(preds, index=test.index)\n",
    "preds[preds > .6] = 1\n",
    "preds[preds<=.6] = 0"
   ]
  },
  {
   "cell_type": "code",
   "execution_count": 19,
   "id": "a9925da6",
   "metadata": {},
   "outputs": [
    {
     "data": {
      "text/plain": [
       "1990-02-27    1.0\n",
       "1990-02-28    1.0\n",
       "1990-03-01    1.0\n",
       "1990-03-02    1.0\n",
       "1990-03-05    1.0\n",
       "dtype: float64"
      ]
     },
     "execution_count": 19,
     "metadata": {},
     "output_type": "execute_result"
    }
   ],
   "source": [
    "preds.head()"
   ]
  },
  {
   "cell_type": "code",
   "execution_count": 20,
   "id": "a1189bd1",
   "metadata": {},
   "outputs": [],
   "source": [
    "predictions = []\n",
    "# Loop over the dataset in increments\n",
    "for i in range(1000, data.shape[0], step):\n",
    "    # Split into train and test sets\n",
    "    train = data.iloc[0:i].copy()\n",
    "    test = data.iloc[i:(i+step)].copy()\n",
    "\n",
    "    # Fit the random forest model\n",
    "    model.fit(train[predictors], train[\"Target\"])\n",
    "\n",
    "    # Make predictions\n",
    "    preds = model.predict_proba(test[predictors])[:,1]\n",
    "    preds = pd.Series(preds, index=test.index)\n",
    "    preds[preds > .6] = 1\n",
    "    preds[preds<=.6] = 0\n",
    "\n",
    "    # Combine predictions and test values\n",
    "    combined = pd.concat({\"Target\": test[\"Target\"],\"Predictions\": preds}, axis=1)\n",
    "\n",
    "    predictions.append(combined)\n"
   ]
  },
  {
   "cell_type": "code",
   "execution_count": 21,
   "id": "179d4ed0",
   "metadata": {},
   "outputs": [
    {
     "data": {
      "text/html": [
       "<div>\n",
       "<style scoped>\n",
       "    .dataframe tbody tr th:only-of-type {\n",
       "        vertical-align: middle;\n",
       "    }\n",
       "\n",
       "    .dataframe tbody tr th {\n",
       "        vertical-align: top;\n",
       "    }\n",
       "\n",
       "    .dataframe thead th {\n",
       "        text-align: right;\n",
       "    }\n",
       "</style>\n",
       "<table border=\"1\" class=\"dataframe\">\n",
       "  <thead>\n",
       "    <tr style=\"text-align: right;\">\n",
       "      <th></th>\n",
       "      <th>Target</th>\n",
       "      <th>Predictions</th>\n",
       "    </tr>\n",
       "  </thead>\n",
       "  <tbody>\n",
       "    <tr>\n",
       "      <th>1990-02-27</th>\n",
       "      <td>0.0</td>\n",
       "      <td>1.0</td>\n",
       "    </tr>\n",
       "    <tr>\n",
       "      <th>1990-02-28</th>\n",
       "      <td>1.0</td>\n",
       "      <td>1.0</td>\n",
       "    </tr>\n",
       "    <tr>\n",
       "      <th>1990-03-01</th>\n",
       "      <td>1.0</td>\n",
       "      <td>1.0</td>\n",
       "    </tr>\n",
       "    <tr>\n",
       "      <th>1990-03-02</th>\n",
       "      <td>1.0</td>\n",
       "      <td>1.0</td>\n",
       "    </tr>\n",
       "    <tr>\n",
       "      <th>1990-03-05</th>\n",
       "      <td>1.0</td>\n",
       "      <td>1.0</td>\n",
       "    </tr>\n",
       "  </tbody>\n",
       "</table>\n",
       "</div>"
      ],
      "text/plain": [
       "            Target  Predictions\n",
       "1990-02-27     0.0          1.0\n",
       "1990-02-28     1.0          1.0\n",
       "1990-03-01     1.0          1.0\n",
       "1990-03-02     1.0          1.0\n",
       "1990-03-05     1.0          1.0"
      ]
     },
     "execution_count": 21,
     "metadata": {},
     "output_type": "execute_result"
    }
   ],
   "source": [
    "predictions[0].head()"
   ]
  },
  {
   "cell_type": "code",
   "execution_count": 22,
   "id": "e2a90ece",
   "metadata": {},
   "outputs": [],
   "source": [
    "def backtest(data, model, predictors, start=1000, step=750):\n",
    "    predictions = []\n",
    "    # Loop over the dataset in increments\n",
    "    for i in range(start, data.shape[0], step):\n",
    "        # Split into train and test sets\n",
    "        train = data.iloc[0:i].copy()\n",
    "        test = data.iloc[i:(i+step)].copy()\n",
    "\n",
    "        # Fit the random forest model\n",
    "        model.fit(train[predictors], train[\"Target\"])\n",
    "\n",
    "        # Make predictions\n",
    "        preds = model.predict_proba(test[predictors])[:,1]\n",
    "        preds = pd.Series(preds, index=test.index)\n",
    "        preds[preds > .6] = 1\n",
    "        preds[preds<=.6] = 0\n",
    "\n",
    "        # Combine predictions and test values\n",
    "        combined = pd.concat({\"Target\": test[\"Target\"],\"Predictions\": preds}, axis=1)\n",
    "\n",
    "        predictions.append(combined)\n",
    "\n",
    "    return pd.concat(predictions)\n"
   ]
  },
  {
   "cell_type": "code",
   "execution_count": 23,
   "id": "7180887a",
   "metadata": {},
   "outputs": [],
   "source": [
    "predictions = backtest(data, model, predictors)"
   ]
  },
  {
   "cell_type": "code",
   "execution_count": 24,
   "id": "14f8f56e",
   "metadata": {},
   "outputs": [
    {
     "data": {
      "text/plain": [
       "0.0    7455\n",
       "1.0     739\n",
       "Name: Predictions, dtype: int64"
      ]
     },
     "execution_count": 24,
     "metadata": {},
     "output_type": "execute_result"
    }
   ],
   "source": [
    "predictions[\"Predictions\"].value_counts()"
   ]
  },
  {
   "cell_type": "code",
   "execution_count": 25,
   "id": "e34ec433",
   "metadata": {},
   "outputs": [
    {
     "data": {
      "text/plain": [
       "1.0    4149\n",
       "0.0    4045\n",
       "Name: Target, dtype: int64"
      ]
     },
     "execution_count": 25,
     "metadata": {},
     "output_type": "execute_result"
    }
   ],
   "source": [
    "predictions[\"Target\"].value_counts()"
   ]
  },
  {
   "cell_type": "code",
   "execution_count": 26,
   "id": "0a7d917c",
   "metadata": {},
   "outputs": [
    {
     "data": {
      "text/plain": [
       "0.4952638700947226"
      ]
     },
     "execution_count": 26,
     "metadata": {},
     "output_type": "execute_result"
    }
   ],
   "source": [
    "precision_score(predictions[\"Target\"], predictions[\"Predictions\"])"
   ]
  },
  {
   "cell_type": "code",
   "execution_count": 27,
   "id": "d7d350c4",
   "metadata": {},
   "outputs": [],
   "source": [
    "weekly_mean = data.rolling(7).mean()[\"Close\"]\n",
    "quarterly_mean = data.rolling(90).mean()[\"Close\"]\n",
    "annual_mean = data.rolling(365).mean()[\"Close\"]"
   ]
  },
  {
   "cell_type": "code",
   "execution_count": 28,
   "id": "290da6f1",
   "metadata": {},
   "outputs": [],
   "source": [
    "weekly_trend = data.shift(1).rolling(7).sum()[\"Target\"]"
   ]
  },
  {
   "cell_type": "code",
   "execution_count": 29,
   "id": "eaf5f98c",
   "metadata": {},
   "outputs": [],
   "source": [
    "data[\"weekly_mean\"] = weekly_mean / data[\"Close\"]\n",
    "data[\"quarterly_mean\"] = quarterly_mean / data[\"Close\"]\n",
    "data[\"annual_mean\"] = annual_mean / data[\"Close\"]\n"
   ]
  },
  {
   "cell_type": "code",
   "execution_count": 30,
   "id": "de483d38",
   "metadata": {},
   "outputs": [],
   "source": [
    "data[\"annual_weekly_mean\"] = data[\"annual_mean\"] / data[\"weekly_mean\"]\n",
    "data[\"annual_quarterly_mean\"] = data[\"annual_mean\"] / data[\"quarterly_mean\"]"
   ]
  },
  {
   "cell_type": "code",
   "execution_count": 31,
   "id": "d78997ea",
   "metadata": {},
   "outputs": [],
   "source": [
    "data[\"weekly_trend\"] = weekly_trend"
   ]
  },
  {
   "cell_type": "code",
   "execution_count": 32,
   "id": "ba625a5f",
   "metadata": {},
   "outputs": [],
   "source": [
    "data[\"open_close_ratio\"] = data[\"Open\"] / data[\"Close\"]\n",
    "data[\"high_close_ratio\"] = data[\"High\"] / data[\"Close\"]\n",
    "data[\"low_close_ratio\"] = data[\"Low\"] / data[\"Close\"]"
   ]
  },
  {
   "cell_type": "code",
   "execution_count": 33,
   "id": "b4107a19",
   "metadata": {},
   "outputs": [],
   "source": [
    "full_predictors = predictors + [\"weekly_mean\", \"quarterly_mean\", \"annual_mean\", \"annual_weekly_mean\", \"annual_quarterly_mean\", \"open_close_ratio\", \"high_close_ratio\", \"low_close_ratio\", \"weekly_trend\"]\n",
    "predictions = backtest(data.iloc[365:], model, full_predictors)\n"
   ]
  },
  {
   "cell_type": "code",
   "execution_count": 34,
   "id": "c0b97942",
   "metadata": {},
   "outputs": [
    {
     "data": {
      "text/plain": [
       "0.5957446808510638"
      ]
     },
     "execution_count": 34,
     "metadata": {},
     "output_type": "execute_result"
    }
   ],
   "source": [
    "precision_score(predictions[\"Target\"], predictions[\"Predictions\"])\n"
   ]
  },
  {
   "cell_type": "code",
   "execution_count": 35,
   "id": "8bff1293",
   "metadata": {},
   "outputs": [
    {
     "data": {
      "text/plain": [
       "0.0    7594\n",
       "1.0     235\n",
       "Name: Predictions, dtype: int64"
      ]
     },
     "execution_count": 35,
     "metadata": {},
     "output_type": "execute_result"
    }
   ],
   "source": [
    "# Show how many trades we would make\n",
    "\n",
    "predictions[\"Predictions\"].value_counts()"
   ]
  },
  {
   "cell_type": "code",
   "execution_count": 36,
   "id": "12524bcf",
   "metadata": {},
   "outputs": [
    {
     "data": {
      "text/plain": [
       "<AxesSubplot:>"
      ]
     },
     "execution_count": 36,
     "metadata": {},
     "output_type": "execute_result"
    },
    {
     "data": {
      "image/png": "[encoded data removed]",
      "text/plain": [
       "<Figure size 432x288 with 1 Axes>"
      ]
     },
     "metadata": {
      "needs_background": "light"
     },
     "output_type": "display_data"
    }
   ],
   "source": [
    "# Look at trades we would have made in the last 100 days\n",
    "\n",
    "predictions.iloc[-100:].plot()"
   ]
  },
  {
   "cell_type": "code",
   "execution_count": null,
   "id": "0be3b140",
   "metadata": {},
   "outputs": [],
   "source": []
  }
 ],
 "metadata": {
  "kernelspec": {
   "display_name": "Python 3 (ipykernel)",
   "language": "python",
   "name": "python3"
  },
  "language_info": {
   "codemirror_mode": {
    "name": "ipython",
    "version": 3
   },
   "file_extension": ".py",
   "mimetype": "text/x-python",
   "name": "python",
   "nbconvert_exporter": "python",
   "pygments_lexer": "ipython3",
   "version": "3.9.12"
  }
 },
 "nbformat": 4,
 "nbformat_minor": 5
}
